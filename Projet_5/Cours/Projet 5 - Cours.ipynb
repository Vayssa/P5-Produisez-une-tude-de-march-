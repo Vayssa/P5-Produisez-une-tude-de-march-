{
 "cells": [
  {
   "cell_type": "markdown",
   "source": "L'Analyse en Composantes Principales\n- permet de dégager rapidement les principales tendances de l'échantillon\n- diminue le nombre de variables nécessaires à la représentation de nos données tout en perdant le moins d'infos possible",
   "metadata": {
    "cell_id": "4d7a89f4-50f4-4926-a878-3745a151fe17",
    "deepnote_cell_type": "markdown"
   }
  },
  {
   "cell_type": "markdown",
   "source": "Méthodes de clustering :\n- k-means\n- classification hiérarchique",
   "metadata": {
    "cell_id": "00001-1afacf39-bd9e-4103-bfc8-b31d114d1f0e",
    "deepnote_cell_type": "markdown"
   }
  },
  {
   "cell_type": "code",
   "metadata": {
    "cell_id": "00002-aa4e35c0-cf55-47e1-a2bf-d36cf6166562",
    "deepnote_cell_type": "code"
   },
   "source": "import matplotlib.pyplot as plt\nimport matplotlib as mpl\nimport pandas as pd\nimport numpy as np\nimport seaborn as sns\nimport scipy as sp\nimport datetime \nimport statsmodels.api as sm\nfrom scipy import stats",
   "outputs": [],
   "execution_count": null
  },
  {
   "cell_type": "markdown",
   "source": "# 2 familles de méthodes des traitements statistiques",
   "metadata": {
    "cell_id": "00003-226ef383-ff51-4bf8-ba7e-8d4fea22a674",
    "deepnote_cell_type": "markdown"
   }
  },
  {
   "cell_type": "markdown",
   "source": "## Les méthodes factorielles",
   "metadata": {
    "cell_id": "00004-a8f530e2-f7f2-4a10-8665-dad6125facac",
    "deepnote_cell_type": "markdown"
   }
  },
  {
   "cell_type": "markdown",
   "source": "Analyse en Composante principale",
   "metadata": {
    "cell_id": "00005-9514b562-d74f-45af-be67-4540c6f246fa",
    "deepnote_cell_type": "markdown"
   }
  },
  {
   "cell_type": "markdown",
   "source": "La classification supervisée (ou classement, classification en anglais) consiste à 'ranger' les individus dans des classes connues. Il y a donc une question préalable. ",
   "metadata": {
    "cell_id": "00006-963d1257-f859-4e89-ad04-483035cd5d73",
    "deepnote_cell_type": "markdown"
   }
  },
  {
   "cell_type": "markdown",
   "source": "regroupe les variables",
   "metadata": {
    "cell_id": "00007-d53564b0-ad03-4356-905e-ec8443be9de6",
    "deepnote_cell_type": "markdown"
   }
  },
  {
   "cell_type": "markdown",
   "source": "## Les méthodes de clustering (classification non supervisée)",
   "metadata": {
    "cell_id": "00008-8f1976d4-1d36-4aa5-8578-167ee61df5f7",
    "deepnote_cell_type": "markdown"
   }
  },
  {
   "cell_type": "markdown",
   "source": "K-means",
   "metadata": {
    "cell_id": "00009-d3f2ba67-a6ad-4c4f-a591-b89b51f3b17f",
    "deepnote_cell_type": "markdown"
   }
  },
  {
   "cell_type": "markdown",
   "source": "La classification non supervisée consiste en l'organisation d'individus en groupes homogènes. On défini des classes que l'on ne connaît pas à l'avance",
   "metadata": {
    "cell_id": "00010-a8666df4-24b2-45cf-9108-39fb6a815f3e",
    "deepnote_cell_type": "markdown"
   }
  },
  {
   "cell_type": "markdown",
   "source": "regroupe les individus",
   "metadata": {
    "cell_id": "00011-3f3e3bb4-fc96-40de-a13c-7f5d85375a87",
    "deepnote_cell_type": "markdown"
   }
  },
  {
   "cell_type": "markdown",
   "source": "# Objetcifs de l'ACP",
   "metadata": {
    "cell_id": "00012-e418f8ff-22cc-4220-8994-9edb70ad06e8",
    "deepnote_cell_type": "markdown"
   }
  },
  {
   "cell_type": "markdown",
   "source": "## Etudier :\n",
   "metadata": {
    "cell_id": "00013-9a1911bf-04cd-48c2-b022-aa4eefa9c7c4",
    "deepnote_cell_type": "markdown"
   }
  },
  {
   "cell_type": "markdown",
   "source": "1 La variabilité des individus",
   "metadata": {
    "cell_id": "00014-67bb40dd-437c-448f-aca1-be54783aca39",
    "deepnote_cell_type": "markdown"
   }
  },
  {
   "cell_type": "markdown",
   "source": "2 Les liaisons entre les variables",
   "metadata": {
    "cell_id": "00015-d3aeaf49-e2b3-4820-8af2-f2e502884d82",
    "deepnote_cell_type": "markdown"
   }
  },
  {
   "cell_type": "code",
   "source": "print df.head(3)\nprint df.tail(3)\nprint df.describe()",
   "metadata": {
    "cell_id": "00016-906c6942-abf9-49a0-a161-35b92c2d001d",
    "deepnote_cell_type": "code"
   },
   "execution_count": null,
   "outputs": []
  },
  {
   "cell_type": "markdown",
   "source": "## Le principe de l'ACP",
   "metadata": {
    "cell_id": "00017-5bde6d02-c172-4d91-8f2f-ffd6311e0333",
    "deepnote_cell_type": "markdown"
   }
  },
  {
   "cell_type": "markdown",
   "source": "Objectifs de l’ACP :\n\n- étudier la variabilité des individus (leurs ressemblances et différences)\n\n- étudier les liaisons entre les variables (et au besoin, regrouper les variables liées en nouvelles variables synthétiques pour réduire le nombre de colonnes de nos données)",
   "metadata": {
    "cell_id": "00018-03c89244-fb41-43ef-8670-562befe83e42",
    "deepnote_cell_type": "markdown"
   }
  },
  {
   "cell_type": "markdown",
   "source": "Premier axe principal d'intertie : axe pour lequel la projection orthogonale du nuage de points est le plus étalée possible",
   "metadata": {
    "cell_id": "00019-41a134f3-b56f-4902-91bb-c3c5e67aae79",
    "deepnote_cell_type": "markdown"
   }
  },
  {
   "cell_type": "markdown",
   "source": "Deuxième axe orthogonal d'interie : perpendiculaire (orthogonal) au premier",
   "metadata": {
    "cell_id": "00020-844d7736-e76a-492d-b1ac-a774a32e8b2f",
    "deepnote_cell_type": "markdown"
   }
  },
  {
   "cell_type": "markdown",
   "source": "(Pour rappel : plus le nuage sera dispersé (étalé), plus son inertie sera grande)",
   "metadata": {
    "cell_id": "00021-f2fbdddc-2b4a-4513-8462-5b55e6635424",
    "deepnote_cell_type": "markdown"
   }
  },
  {
   "cell_type": "markdown",
   "source": "On peut ensuite chercher le 3e qui sera orthogonal aux précédents. Puis le 4e qui sera orthogonal ...\nChaque nouvel axe d'intertie peut être vu commme un nouvelle variable (des variables calculées)",
   "metadata": {
    "cell_id": "00022-389500aa-574a-4f68-a3c7-d81f436efad8",
    "deepnote_cell_type": "markdown"
   }
  },
  {
   "cell_type": "markdown",
   "source": "## Centrage des données",
   "metadata": {
    "cell_id": "00023-89ea6c75-083c-410b-ae6e-eebf95f93ae5",
    "deepnote_cell_type": "markdown"
   }
  },
  {
   "cell_type": "markdown",
   "source": "Centrage : transformation de nos variables de telle manière que leur moyenne vaut 0",
   "metadata": {
    "cell_id": "00024-fed653e1-9c0a-4daf-bb5d-146ce903877e",
    "deepnote_cell_type": "markdown"
   }
  },
  {
   "cell_type": "markdown",
   "source": "Exemple : La moyenne de ces observations {4,5,6,5,4,6} est 5. Si l'on centre ces données, on obtient {−1,0,1,0,−1,1} . Si l'on calcule la moyenne de ces données centrées, on obtient bien 0.",
   "metadata": {
    "cell_id": "00025-fb4f017c-d8a0-4994-b1db-57c44b5011a4",
    "deepnote_cell_type": "markdown"
   }
  },
  {
   "cell_type": "markdown",
   "source": "## Réduction des données",
   "metadata": {
    "cell_id": "00026-238a7212-b099-490d-b9b2-a4536afbf4b0",
    "deepnote_cell_type": "markdown"
   }
  },
  {
   "cell_type": "markdown",
   "source": "Réduction : Après avoir centré les données, si on les divise par leur écart-type (l’écart-type est la racine carrée de la variance), alors on obtient des valeurs dont la variance vaut 1.",
   "metadata": {
    "cell_id": "00027-3b460105-fc1f-4983-9b20-8089692bf8c6",
    "deepnote_cell_type": "markdown"
   }
  },
  {
   "cell_type": "markdown",
   "source": "## Nuages",
   "metadata": {
    "cell_id": "00028-1d099f70-74cb-46ce-bfbe-28249b1874c4",
    "deepnote_cell_type": "markdown"
   }
  },
  {
   "cell_type": "markdown",
   "source": "- espace : Rp\n- Ni : nuage des individus\n- représentation du nuage : par des points",
   "metadata": {
    "cell_id": "00029-0f5bee91-a61e-4f5b-96af-e382896209ae",
    "deepnote_cell_type": "markdown"
   }
  },
  {
   "cell_type": "markdown",
   "source": "- espace Rn\n- Nk: nuage des variables\n- représentation du nuage : oar des vecteurs partant de l'origine\n- particularité: toutes les flèches ont la même longueur si les données sont centrée réduites",
   "metadata": {
    "cell_id": "00030-0d6590ac-5518-4c9e-9dc4-5e3d831e1131",
    "deepnote_cell_type": "markdown"
   }
  },
  {
   "cell_type": "markdown",
   "source": "## Interprétation",
   "metadata": {
    "cell_id": "00031-85a6b572-7b70-494d-9295-5f7e55b719e0",
    "deepnote_cell_type": "markdown"
   }
  },
  {
   "cell_type": "markdown",
   "source": "Peut-on interpréter les angles entre les flèches ?\n\nMieux vaut être prudent, et ne pas prendre cette habitude. En effet, le cercle des corrélations n'est pas fait pour interpréter la corrélation entre 2 variables initiales, mais plutôt entre une variable initiale et l'un des axes d'inertie. ",
   "metadata": {
    "cell_id": "00032-2cbb0547-703e-4f87-a180-dfaacfba2f05",
    "deepnote_cell_type": "markdown"
   }
  },
  {
   "cell_type": "markdown",
   "source": "Une flèche qui est de longueur 1 (et qui touche le cercle) est parfaitement bien représentée : elle est parallèle au plan factoriel. Alors qu’une flèche qui sera parfaitement orthogonale à ce plan aura une longueur de 0. Ainsi, plus la flèche est petite, plus on a perdu de l’information dans la projection.",
   "metadata": {
    "cell_id": "00033-0ab65f8f-24e5-45f7-b769-bdb24c9cc827",
    "deepnote_cell_type": "markdown"
   }
  },
  {
   "cell_type": "markdown",
   "source": "Dans Rn , le cosinus de l’angle entre 2 flèches correspond au coefficient de corrélation entre les 2 variables correspondantes. Si 2 flèches sont très proches, l’angle qui les sépare est proche de 0°, et cos(0)=1 , donc leur coefficient de corrélation est proche de 1 : ces 2 variables sont très corrélées. De même, si 2 flèches sont orthogonales (perpendiculaires), alors l’angle qui les sépare est de 90°. Le cosinus de cet angle valant 0, deux flèches orthogonales correspondent à des variables non corrélées (indépendantes). On ne peut déduire cela QUE si leurs 2 extrémités sont proches du cercle. Car le cercle des corrélations est une projection dans R2 . Comme c'est une projection, les angles apparaissent déformés !",
   "metadata": {
    "cell_id": "00034-5e420a41-73a2-427c-b605-450f5ed7006c",
    "deepnote_cell_type": "markdown"
   }
  },
  {
   "cell_type": "markdown",
   "source": "De manière générale, le cercle des corrélations n'est pas fait pour interpréter les corrélations entre les variables initiales. Il est fait pour interpréter les axes d'inertie F1, F2, etc.",
   "metadata": {
    "cell_id": "00035-57fd0f99-9ce4-46bb-bd41-09ea71615747",
    "deepnote_cell_type": "markdown"
   }
  },
  {
   "cell_type": "code",
   "metadata": {
    "cell_id": "00036-8a5e3a18-baa6-460a-9878-09ee283f50cd",
    "deepnote_cell_type": "code"
   },
   "source": "",
   "execution_count": null,
   "outputs": []
  },
  {
   "cell_type": "markdown",
   "source": "<a style='text-decoration:none;line-height:16px;display:flex;color:#5B5B62;padding:10px;justify-content:end;' href='https://deepnote.com?utm_source=created-in-deepnote-cell&projectId=1ee07386-aa80-48b6-a794-cb2a65040702' target=\"_blank\">\n<img alt='Created in deepnote.com' style='display:inline;max-height:16px;margin:0px;margin-right:7.5px;' src='data:image/svg+xml;base64,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' > </img>\nCreated in <span style='font-weight:600;margin-left:4px;'>Deepnote</span></a>",
   "metadata": {
    "tags": [],
    "created_in_deepnote_cell": true,
    "deepnote_cell_type": "markdown"
   }
  }
 ],
 "nbformat": 4,
 "nbformat_minor": 5,
 "metadata": {
  "kernelspec": {
   "display_name": "Python 3 (ipykernel)",
   "language": "python",
   "name": "python3"
  },
  "language_info": {
   "codemirror_mode": {
    "name": "ipython",
    "version": 3
   },
   "file_extension": ".py",
   "mimetype": "text/x-python",
   "name": "python",
   "nbconvert_exporter": "python",
   "pygments_lexer": "ipython3",
   "version": "3.9.7"
  },
  "toc": {
   "base_numbering": 1,
   "nav_menu": {},
   "number_sections": true,
   "sideBar": true,
   "skip_h1_title": false,
   "title_cell": "Table of Contents",
   "title_sidebar": "Contents",
   "toc_cell": false,
   "toc_position": {},
   "toc_section_display": true,
   "toc_window_display": false
  },
  "deepnote_notebook_id": "0c64902f-773c-4a9e-a931-9bc2bfe0a9b3",
  "deepnote": {},
  "deepnote_execution_queue": []
 }
}